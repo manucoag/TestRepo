{
 "cells": [
  {
   "cell_type": "markdown",
   "id": "9dffa3d5-64de-4827-a204-630e18726df7",
   "metadata": {},
   "source": [
    "# Proyecto Final: Herramientas de Ciencia de Datos\n",
    "#### Manuela Correa Aguilar"
   ]
  },
  {
   "cell_type": "markdown",
   "id": "931fda57-59b3-4531-a57e-f225108c6dac",
   "metadata": {},
   "source": [
    "**Introducción**\n",
    "Este notebook contiene las evidencias de los conocimientos adquiridos en el curso ***Herramientas de la ciencia de datos***"
   ]
  },
  {
   "cell_type": "markdown",
   "id": "62db0557-07f6-4e68-934c-cee324a47a2d",
   "metadata": {},
   "source": [
    "Estos son algunos lenguajes de ciencia de datos:\n",
    "1. Python\n",
    "2. R\n",
    "3. SQL\n",
    "4. C++\n",
    "5. C\n",
    "6. Julia\n",
    "7. Scala\n",
    "8. Java"
   ]
  },
  {
   "cell_type": "markdown",
   "id": "e863b013-2d56-4136-823b-3f2d8692af97",
   "metadata": {},
   "source": [
    "Bibliotecas ciencia de datos **Python**\n",
    "\n",
    "__*Manipulacion de datos:*__\n",
    "+ pandas\n",
    "+ numpy\n",
    "\n",
    "__*Visualizacion:*__\n",
    "+ matplotlib\n",
    "+ seaborn\n",
    "\n",
    "__*Machine Learning:*__\n",
    "+ scikit-learn\n",
    "\n",
    "__*Deep Learning:*__\n",
    "+ Keras\n",
    "+ TensorFlow\n",
    "\n",
    "Librerias ciencia de datos **R**\n",
    "\n",
    "__*Manipulacion de datos:*__\n",
    "+ dplyr\n",
    "+ data.table\n",
    "\n",
    "__*Visualizacion:*__\n",
    "+ ggplot2\n",
    "+ plotly\n",
    "+ lattice\n",
    "\n",
    "__*Machine Learning:*__\n",
    "+ caret"
   ]
  },
  {
   "cell_type": "markdown",
   "id": "4e0ab02c-19f1-4761-a091-4b4fc25e5314",
   "metadata": {},
   "source": [
    "Estas son algunas herramientas mas utilizadas para la *Ciencia de Datos*\n",
    "\n",
    "|Herramienta | Descripción| Uso |\n",
    "| -------------| ------ |------ \n",
    "|Python | Lenguaje versátil para análisis, machine learning y automatización| Analisis/Programacion\n",
    "|R | Potente para estadística, visualización y modelado| Analisis/Programacion\n",
    "|SQL | Consulta y manipulación de bases de datos| Analisis/Programacion\n",
    "|Jupyter Notebook | Entorno interactivo para escribir y ejecutar código, ideal para prototipos| Analisis/Programacion\n",
    "|RStudio |  Especializado para trabajar con R| Analisis/Programacion\n",
    "| Power BI | Herramienta de Microsoft para análisis empresarial| Visualizacion\n",
    "| Tableau | Plataforma de BI para crear dashboards interactivos | Visualizacion\n",
    "| H2O.ai | Plataforma de ML escalable para empresas | ML\n",
    "| Git\tControl de versiones | Control Versiones\n",
    "| GitHub / GitLab / Bitbucket| Plataformas para alojar repositorios y colaborar en proyectos | Control Versiones\n",
    "| Apache NiFi         | Automatización de flujos de datos entre sistemas  | Adm Datos |\n",
    "| Microsoft SQL Server| Base de datos relacional con herramientas de administración integradas | Adm Datos |\n"
   ]
  },
  {
   "cell_type": "markdown",
   "id": "7b878885-b844-4994-9883-b7df249dce91",
   "metadata": {},
   "source": [
    "Estos son algunos ejemplos de *Expresiones Aritmeticas*\n",
    "\n",
    "**Suma:** 5 + 3 = 8 \n",
    " \n",
    "**Resta:** 10 - 4 = 6\n",
    "\n",
    "**Multiplicación:** 7*6 = 42\n",
    "\n",
    "**División:** 15/5 = 3\n",
    " \n",
    "**Potenciación:** 20**2 = 400 "
   ]
  },
  {
   "cell_type": "code",
   "execution_count": 34,
   "id": "14e0b230-2ea0-4d00-9395-8a9c1c5afa5d",
   "metadata": {},
   "outputs": [
    {
     "name": "stdout",
     "output_type": "stream",
     "text": [
      "34463\n"
     ]
    }
   ],
   "source": [
    "#Suma y Multiplizacion\n",
    "s = (500+256+7+102+23)\n",
    "m = (395*85)\n",
    "print (s+m)"
   ]
  },
  {
   "cell_type": "code",
   "execution_count": 41,
   "id": "d233759d-588a-4620-9140-173b771484a5",
   "metadata": {},
   "outputs": [
    {
     "name": "stdout",
     "output_type": "stream",
     "text": [
      "120 minutos equivalen a 2.00 horas\n"
     ]
    }
   ],
   "source": [
    "#Minutos a Horas\n",
    "minuto = 120 #Cambiar por el numero de minutos\n",
    "hora = 60 \n",
    "#¿? Convertir minutos en horas\n",
    "mh = minuto/hora\n",
    "print(f\"{minuto} minutos equivalen a {mh:.2f} horas\")"
   ]
  },
  {
   "cell_type": "markdown",
   "id": "f46e0054-03e7-47e7-a13e-bdeb816317ad",
   "metadata": {},
   "source": [
    "Durante este curso, desarrollé competencias fundamentales para iniciar y fortalecer mi perfil en ciencia de datos, logrando los siguientes objetivos:\n",
    "\n",
    "+ Dominar herramientas clave para la ciencia de datos: Aprendí a utilizar entornos como Jupyter Notebooks, JupyterLab y RStudio para ejecutar código, documentar análisis, y crear visualizaciones que respaldan la toma de decisiones basada en datos.\n",
    "+ Comprender el funcionamiento de las APIs: Exploré cómo las interfaces de programación de aplicaciones (APIs) permiten integrar datos y funcionalidades externas, potenciando los resultados de los proyectos de ciencia de datos.\n",
    "+ Aplicar herramientas de colaboración y control de versiones: Utilicé Git y GitHub para gestionar versiones de código, colaborar en equipo y mantener un historial claro de los avances en proyectos.\n",
    "+ Evaluar herramientas según el contexto del proyecto: Desarrollé criterio para seleccionar la herramienta más adecuada según las necesidades específicas del análisis, la implementación y el despliegue de modelos de datos.\n",
    "+ Desarrollar proyectos prácticos: Apliqué los conocimientos adquiridos en la creación de notebooks interactivos, integrando código, visualizaciones y documentación para comunicar hallazgos de forma efectiva."
   ]
  },
  {
   "cell_type": "markdown",
   "id": "146ef600-b88d-4c4c-8a8b-ced9584b663a",
   "metadata": {},
   "source": [
    "___Manuela Correa Aguila___"
   ]
  }
 ],
 "metadata": {
  "kernelspec": {
   "display_name": "Python [conda env:base] *",
   "language": "python",
   "name": "conda-base-py"
  },
  "language_info": {
   "codemirror_mode": {
    "name": "ipython",
    "version": 3
   },
   "file_extension": ".py",
   "mimetype": "text/x-python",
   "name": "python",
   "nbconvert_exporter": "python",
   "pygments_lexer": "ipython3",
   "version": "3.13.5"
  }
 },
 "nbformat": 4,
 "nbformat_minor": 5
}
